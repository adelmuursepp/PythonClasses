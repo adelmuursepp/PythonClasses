{
 "cells": [
  {
   "cell_type": "markdown",
   "metadata": {},
   "source": [
    "# Recap\n",
    "How do classes work?\n",
    "\n",
    "### `__init__()`\n",
    "`__init__()` is a special method that is used for initialising instances of the class. It's called when you create an instance of the class.\n",
    "\n"
   ]
  },
  {
   "cell_type": "code",
   "execution_count": 2,
   "metadata": {},
   "outputs": [
    {
     "name": "stdout",
     "output_type": "stream",
     "text": [
      "This is the name of jack:  Jack\n"
     ]
    }
   ],
   "source": [
    "class Person:\n",
    "    def __init__(self, name, age):\n",
    "        self.name = name\n",
    "        self.age = age\n",
    "    \n",
    "jack = Person('Jack', 82)\n",
    "print('This is the name of jack: ', jack.name)"
   ]
  },
  {
   "cell_type": "markdown",
   "metadata": {},
   "source": [
    "#  Fill the missing pieces of the `Calculator` class\n",
    "Fill `____` pieces of the `Calculator` implemention in order to pass the assertions."
   ]
  },
  {
   "cell_type": "code",
   "execution_count": null,
   "metadata": {},
   "outputs": [],
   "source": [
    "class Calculator:\n",
    "    def __init__(self, var1, ____):\n",
    "        self.____ = var1\n",
    "        self.____ = _____\n",
    "    \n",
    "    def calculate_power(self):\n",
    "        return self.____ ** ____.____\n",
    "    \n",
    "    def calculate_sum(____, var3):\n",
    "        return ____.____ + ____.____ + var3"
   ]
  },
  {
   "cell_type": "code",
   "execution_count": null,
   "metadata": {},
   "outputs": [],
   "source": [
    "calc = Calculator(2, 3)\n",
    "assert calc.calculate_power() == 8\n",
    "assert calc.calculate_sum(4) == 9"
   ]
  },
  {
   "cell_type": "markdown",
   "metadata": {},
   "source": [
    "# Create `Macbook Pro` class\n",
    "User can choose what the Macbook Pro model can have. The factory then creates the computer based on User's needs.\n",
    "Your task is to create Macbook Pro template for the factory.\n",
    "The Macbook 'template', or blueprint, should specify:\n",
    "- color\n",
    "- inches (13 or 16)\n",
    "- processor\n",
    "- memory ( in gigabytes)\n",
    "- storage\n",
    "- keyboard language\n",
    "- is Final Cut Pro X installed\n",
    "- is Logic Pro X installed\n",
    "\n",
    "More information here: https://www.apple.com/shop/buy-mac/macbook-pro/13-inch-space-gray-1.4ghz-quad-core-processor-with-turbo-boost-up-to-3.9ghz-512gb#\n"
   ]
  },
  {
   "cell_type": "code",
   "execution_count": 3,
   "metadata": {},
   "outputs": [],
   "source": [
    "class MacbookPro:\n",
    "    def __init__(self, color):\n",
    "        self.color = color"
   ]
  },
  {
   "cell_type": "code",
   "execution_count": null,
   "metadata": {},
   "outputs": [],
   "source": [
    "# Create at least two Macbooks for different people"
   ]
  },
  {
   "cell_type": "markdown",
   "metadata": {},
   "source": [
    "# Create `Dog` class\n",
    "Create `Dog` class which has the following specification:\n",
    "* Dogs consume their energy by barking and gain energy by sleeping\n",
    "* A fresh `Dog` instance has 10 units of energy\n",
    "* `Dog` has a method `sleep` which gives 2 units of energy\n",
    "* `Dog` has a method `bark` which consumes 1 unit of energy\n",
    "* `Dog` has a method `get_energy` which returns the amount of energy left "
   ]
  },
  {
   "cell_type": "code",
   "execution_count": null,
   "metadata": {},
   "outputs": [],
   "source": [
    "class Dog:\n",
    "    # Your implementation here"
   ]
  },
  {
   "cell_type": "code",
   "execution_count": null,
   "metadata": {},
   "outputs": [],
   "source": [
    "doge = Dog()\n",
    "print(doge.get_energy())\n",
    "\n",
    "doge.bark()\n",
    "doge.bark()\n",
    "doge.bark()\n",
    "\n",
    "print(doge.get_energy())\n",
    "\n",
    "doge.sleep()\n",
    "\n",
    "print(doge.get_energy())"
   ]
  }
 ],
 "metadata": {
  "kernelspec": {
   "display_name": "Python 3",
   "language": "python",
   "name": "python3"
  },
  "language_info": {
   "codemirror_mode": {
    "name": "ipython",
    "version": 3
   },
   "file_extension": ".py",
   "mimetype": "text/x-python",
   "name": "python",
   "nbconvert_exporter": "python",
   "pygments_lexer": "ipython3",
   "version": "3.7.3"
  }
 },
 "nbformat": 4,
 "nbformat_minor": 2
}
